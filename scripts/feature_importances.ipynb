{
 "cells": [
  {
   "cell_type": "code",
   "execution_count": 1,
   "metadata": {},
   "outputs": [
    {
     "name": "stdout",
     "output_type": "stream",
     "text": [
      "X_train shape: (79361, 67) X_test shape: (16229, 67) y_train shape: (79361, 1) y_test shape: (16229, 1)\n"
     ]
    },
    {
     "name": "stderr",
     "output_type": "stream",
     "text": [
      "c:\\Users\\ducli\\miniconda3\\envs\\KLTN\\Lib\\site-packages\\sklearn\\base.py:1474: DataConversionWarning: A column-vector y was passed when a 1d array was expected. Please change the shape of y to (n_samples,), for example using ravel().\n",
      "  return fit_method(estimator, *args, **kwargs)\n"
     ]
    },
    {
     "name": "stdout",
     "output_type": "stream",
     "text": [
      "Random Forest MSE: 39.255515459979044\n",
      "Random Forest R^2: 0.7215412102678904\n",
      "XGBoost MSE: 44.98326031327906\n",
      "XGBoost R^2: 0.6809114826727889\n",
      "\n",
      "Random Forest Feature Importances:\n",
      "                    importance\n",
      "itemid                0.754571\n",
      "ewm_daily_sales_7d    0.073753\n",
      "ewm_daily_sales_3d    0.014183\n",
      "shop_rating           0.008167\n",
      "daily_sales_lag_7d    0.007646\n",
      "...                        ...\n",
      "shopid_175889782      0.000106\n",
      "shopid_95753434       0.000063\n",
      "shopid_175753395      0.000051\n",
      "shopid_37251700       0.000033\n",
      "shopid_233692311      0.000031\n",
      "\n",
      "[67 rows x 1 columns]\n",
      "\n",
      "XGBoost Feature Importances:\n",
      "                    importance\n",
      "ewm_daily_sales_7d    0.402871\n",
      "itemid                0.207258\n",
      "ewm_daily_sales_3d    0.130873\n",
      "day_2                 0.013798\n",
      "is_special_day        0.010788\n",
      "...                        ...\n",
      "rating_count          0.001309\n",
      "shopid_37251700       0.000816\n",
      "shopid_95753434       0.000108\n",
      "shopid_175889782      0.000000\n",
      "shopid_175753395      0.000000\n",
      "\n",
      "[67 rows x 1 columns]\n"
     ]
    }
   ],
   "source": [
    "import pandas as pd\n",
    "import numpy as np\n",
    "from sklearn.ensemble import RandomForestRegressor\n",
    "from sklearn.model_selection import train_test_split\n",
    "from sklearn.metrics import mean_squared_error, r2_score\n",
    "import xgboost as xgb\n",
    "\n",
    "X_train = pd.read_csv(\"../data/processed/X_train.csv\")\n",
    "X_test = pd.read_csv(\"../data/processed/X_test.csv\")\n",
    "y_train = pd.read_csv(\"../data/processed/y_train.csv\")\n",
    "y_test = pd.read_csv(\"../data/processed/y_test.csv\")\n",
    "\n",
    "print(\"X_train shape:\", X_train.shape\n",
    "      , \"X_test shape:\", X_test.shape\n",
    "      , \"y_train shape:\", y_train.shape\n",
    "      , \"y_test shape:\", y_test.shape)\n",
    "\n",
    "# Tạo và huấn luyện mô hình RandomForest\n",
    "rf_model = RandomForestRegressor(n_estimators=100, random_state=42)\n",
    "rf_model.fit(X_train, y_train)\n",
    "rf_predictions = rf_model.predict(X_test)\n",
    "rf_mse = mean_squared_error(y_test, rf_predictions)\n",
    "rf_r2 = r2_score(y_test, rf_predictions)\n",
    "\n",
    "# Tạo và huấn luyện mô hình XGBoost\n",
    "xgb_model = xgb.XGBRegressor(objective ='reg:squarederror', n_estimators=100, seed=42)\n",
    "xgb_model.fit(X_train, y_train)\n",
    "xgb_predictions = xgb_model.predict(X_test)\n",
    "xgb_mse = mean_squared_error(y_test, xgb_predictions)\n",
    "xgb_r2 = r2_score(y_test, xgb_predictions)\n",
    "\n",
    "# So sánh kết quả\n",
    "print(\"Random Forest MSE:\", rf_mse)\n",
    "print(\"Random Forest R^2:\", rf_r2)\n",
    "print(\"XGBoost MSE:\", xgb_mse)\n",
    "print(\"XGBoost R^2:\", xgb_r2)\n",
    "\n",
    "# Độ quan trọng của các biến\n",
    "rf_importances = pd.DataFrame(rf_model.feature_importances_,\n",
    "                              index = X_train.columns,\n",
    "                              columns=['importance']).sort_values('importance', ascending=False)\n",
    "xgb_importances = pd.DataFrame(xgb_model.feature_importances_,\n",
    "                               index = X_train.columns,\n",
    "                               columns=['importance']).sort_values('importance', ascending=False)\n",
    "\n",
    "print(\"\\nRandom Forest Feature Importances:\")\n",
    "print(rf_importances)\n",
    "print(\"\\nXGBoost Feature Importances:\")\n",
    "print(xgb_importances)\n"
   ]
  },
  {
   "cell_type": "code",
   "execution_count": 2,
   "metadata": {},
   "outputs": [
    {
     "name": "stdout",
     "output_type": "stream",
     "text": [
      "                    importance_rf_scaled  importance_xgb_scaled\n",
      "itemid                      7.545706e+08           2.072581e+08\n",
      "ewm_daily_sales_7d          7.375280e+07           4.028711e+08\n",
      "ewm_daily_sales_3d          1.418263e+07           1.308732e+08\n",
      "shop_rating                 8.166742e+06           4.328912e+06\n",
      "daily_sales_lag_7d          7.645679e+06           5.922115e+06\n",
      "...                                  ...                    ...\n",
      "shopid_175889782            1.064303e+05           0.000000e+00\n",
      "shopid_95753434             6.291594e+04           1.084726e+05\n",
      "shopid_175753395            5.068609e+04           0.000000e+00\n",
      "shopid_37251700             3.328939e+04           8.156880e+05\n",
      "shopid_233692311            3.051938e+04           1.335024e+06\n",
      "\n",
      "[67 rows x 2 columns]\n"
     ]
    }
   ],
   "source": [
    "import pandas as pd\n",
    "import numpy as np\n",
    "\n",
    "# Assuming rf_importances and xgb_importances are already defined and contain the importances\n",
    "\n",
    "# Merge the dataframes on their indexes (features)\n",
    "combined_importances = pd.merge(rf_importances, xgb_importances, left_index=True, right_index=True, suffixes=('_rf', '_xgb'))\n",
    "\n",
    "# Scale the importance values by a billion\n",
    "combined_importances['importance_rf'] = combined_importances['importance_rf'] * 1e9\n",
    "combined_importances['importance_xgb'] = combined_importances['importance_xgb'] * 1e9\n",
    "\n",
    "# Rename columns to reflect the scaling\n",
    "combined_importances.rename(columns={'importance_rf': 'importance_rf_scaled',\n",
    "                                     'importance_xgb': 'importance_xgb_scaled'}, inplace=True)\n",
    "\n",
    "# Print the combined and scaled importances\n",
    "print(combined_importances)\n"
   ]
  },
  {
   "cell_type": "code",
   "execution_count": 3,
   "metadata": {},
   "outputs": [],
   "source": [
    "combined_importances.to_csv('../data/processed/feature_importances.csv')"
   ]
  }
 ],
 "metadata": {
  "kernelspec": {
   "display_name": "KLTN",
   "language": "python",
   "name": "python3"
  },
  "language_info": {
   "codemirror_mode": {
    "name": "ipython",
    "version": 3
   },
   "file_extension": ".py",
   "mimetype": "text/x-python",
   "name": "python",
   "nbconvert_exporter": "python",
   "pygments_lexer": "ipython3",
   "version": "3.12.3"
  }
 },
 "nbformat": 4,
 "nbformat_minor": 2
}
